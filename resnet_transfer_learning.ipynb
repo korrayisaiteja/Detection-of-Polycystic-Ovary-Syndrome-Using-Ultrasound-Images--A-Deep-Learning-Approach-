{
  "cells": [
    {
      "cell_type": "code",
      "source": [
        "!pip install split-folders"
      ],
      "metadata": {
        "colab": {
          "base_uri": "https://localhost:8080/"
        },
        "id": "Eek-veDUKl5C",
        "outputId": "81a8ee30-19ad-4939-fd34-38099b2e6a42"
      },
      "id": "Eek-veDUKl5C",
      "execution_count": 1,
      "outputs": [
        {
          "output_type": "stream",
          "name": "stdout",
          "text": [
            "Requirement already satisfied: split-folders in /usr/local/lib/python3.10/dist-packages (0.5.1)\n"
          ]
        }
      ]
    },
    {
      "cell_type": "code",
      "execution_count": 2,
      "id": "hawaiian-bracket",
      "metadata": {
        "id": "hawaiian-bracket"
      },
      "outputs": [],
      "source": [
        "# display, transform, read, split ...\n",
        "import numpy as np\n",
        "import cv2 as cv\n",
        "import os\n",
        "import splitfolders\n",
        "import matplotlib.pyplot as plt\n",
        "\n",
        "# tensorflow\n",
        "import tensorflow.keras as keras\n",
        "import tensorflow as tf\n",
        "\n",
        "# image processing\n",
        "from tensorflow.keras.preprocessing import image\n",
        "from tensorflow.keras.preprocessing.image import ImageDataGenerator, load_img\n",
        "\n",
        "# model / neural network\n",
        "from tensorflow.keras import layers\n",
        "from tensorflow.keras.models import Sequential, Model\n",
        "from tensorflow.keras.applications import ResNet50\n",
        "from tensorflow.keras.applications.resnet50 import preprocess_input"
      ]
    },
    {
      "cell_type": "code",
      "source": [
        "from google.colab import drive\n",
        "drive.mount('/content/drive')"
      ],
      "metadata": {
        "colab": {
          "base_uri": "https://localhost:8080/"
        },
        "id": "QYnJl5wGKfvy",
        "outputId": "a82a165d-7b4f-4719-abbc-c36477330fe4"
      },
      "id": "QYnJl5wGKfvy",
      "execution_count": 3,
      "outputs": [
        {
          "output_type": "stream",
          "name": "stdout",
          "text": [
            "Drive already mounted at /content/drive; to attempt to forcibly remount, call drive.mount(\"/content/drive\", force_remount=True).\n"
          ]
        }
      ]
    },
    {
      "cell_type": "markdown",
      "id": "6a28f282-87ab-42a0-8eb8-5ae077847947",
      "metadata": {
        "id": "6a28f282-87ab-42a0-8eb8-5ae077847947"
      },
      "source": [
        "#### 3. Create Keras data generators"
      ]
    },
    {
      "cell_type": "code",
      "execution_count": 4,
      "id": "gentle-dress",
      "metadata": {
        "id": "gentle-dress"
      },
      "outputs": [],
      "source": [
        "datagen = ImageDataGenerator()"
      ]
    },
    {
      "cell_type": "code",
      "execution_count": 5,
      "id": "7c96f44c-8f93-4ac6-9175-2c4e2bc0a0a8",
      "metadata": {
        "id": "7c96f44c-8f93-4ac6-9175-2c4e2bc0a0a8"
      },
      "outputs": [],
      "source": [
        "# define classes name\n",
        "class_names = ['notinfected','infected']"
      ]
    },
    {
      "cell_type": "code",
      "execution_count": 6,
      "id": "needed-spending",
      "metadata": {
        "colab": {
          "base_uri": "https://localhost:8080/"
        },
        "id": "needed-spending",
        "outputId": "a3715160-73a1-43dd-e7e5-8cbc0ac61258"
      },
      "outputs": [
        {
          "output_type": "stream",
          "name": "stdout",
          "text": [
            "Found 1389 images belonging to 2 classes.\n"
          ]
        }
      ],
      "source": [
        "# training data\n",
        "train_generator = datagen.flow_from_directory(\n",
        "    directory=\"/content/drive/MyDrive/sip/data/train/\",\n",
        "    classes = class_names,\n",
        "    target_size=(224, 224),\n",
        "    batch_size=32,\n",
        "    class_mode=\"binary\",\n",
        ")"
      ]
    },
    {
      "cell_type": "code",
      "execution_count": 7,
      "id": "c42dd58e-7c93-4a07-a560-1b74aa341f7f",
      "metadata": {
        "colab": {
          "base_uri": "https://localhost:8080/"
        },
        "id": "c42dd58e-7c93-4a07-a560-1b74aa341f7f",
        "outputId": "79b01019-5b52-49fc-bb0c-9069b08854f6"
      },
      "outputs": [
        {
          "output_type": "stream",
          "name": "stdout",
          "text": [
            "Found 616 images belonging to 2 classes.\n"
          ]
        }
      ],
      "source": [
        "# test data\n",
        "test_generator = datagen.flow_from_directory(\n",
        "    directory=\"/content/drive/MyDrive/sip/data/test/\",\n",
        "    classes = class_names,\n",
        "    target_size=(224, 224),\n",
        "    batch_size=32,\n",
        "    class_mode=\"binary\",\n",
        ")"
      ]
    },
    {
      "cell_type": "markdown",
      "id": "clear-morrison",
      "metadata": {
        "id": "clear-morrison"
      },
      "source": [
        "### Step 3 - Build the model\n",
        "\n",
        "The first step is to build the model, using **ResNet50**."
      ]
    },
    {
      "cell_type": "code",
      "execution_count": 8,
      "id": "aware-numbers",
      "metadata": {
        "id": "aware-numbers"
      },
      "outputs": [],
      "source": [
        "# ResNet50 model\n",
        "resnet_50 = ResNet50(include_top=False, weights='imagenet', input_shape=(224,224,3))\n",
        "for layer in resnet_50.layers:\n",
        "    layer.trainable = False"
      ]
    },
    {
      "cell_type": "code",
      "execution_count": 9,
      "id": "mounted-winner",
      "metadata": {
        "id": "mounted-winner"
      },
      "outputs": [],
      "source": [
        "# build the entire model\n",
        "x = resnet_50.output\n",
        "x = layers.GlobalAveragePooling2D()(x)\n",
        "x = layers.Dense(512, activation='relu')(x)\n",
        "x = layers.Dropout(0.5)(x)\n",
        "predictions = layers.Dense(2, activation='sigmoid')(x)\n",
        "model = Model(inputs = resnet_50.input, outputs = predictions)"
      ]
    },
    {
      "cell_type": "code",
      "execution_count": 10,
      "id": "protective-collect",
      "metadata": {
        "id": "protective-collect"
      },
      "outputs": [],
      "source": [
        "# define training function\n",
        "def trainModel(model, epochs, optimizer):\n",
        "    batch_size = 32\n",
        "    model.compile(optimizer=optimizer,loss=\"sparse_categorical_crossentropy\", metrics=[\"accuracy\"])\n",
        "    return model.fit(train_generator, validation_data=test_generator, epochs=epochs, batch_size=batch_size)"
      ]
    },
    {
      "cell_type": "markdown",
      "id": "f290216f-657d-4942-bb5d-794464a446d3",
      "metadata": {
        "id": "f290216f-657d-4942-bb5d-794464a446d3"
      },
      "source": [
        "> Some warnings can appear, don't be afraid, you can execute the next steps of the notebook."
      ]
    },
    {
      "cell_type": "code",
      "execution_count": 11,
      "id": "smoking-waterproof",
      "metadata": {
        "colab": {
          "base_uri": "https://localhost:8080/"
        },
        "id": "smoking-waterproof",
        "outputId": "323f7248-17e2-443d-9068-3d3def58b928"
      },
      "outputs": [
        {
          "output_type": "stream",
          "name": "stdout",
          "text": [
            "Epoch 1/3\n",
            "44/44 [==============================] - 70s 516ms/step - loss: 0.0647 - accuracy: 0.9748 - val_loss: 9435.8408 - val_accuracy: 0.6234\n",
            "Epoch 2/3\n",
            "44/44 [==============================] - 18s 397ms/step - loss: 2.3538e-04 - accuracy: 1.0000 - val_loss: 105.1563 - val_accuracy: 0.3636\n",
            "Epoch 3/3\n",
            "44/44 [==============================] - 20s 458ms/step - loss: 4.0493e-05 - accuracy: 1.0000 - val_loss: 0.2965 - val_accuracy: 0.9789\n"
          ]
        }
      ],
      "source": [
        "# launch the training\n",
        "history = trainModel(model = model,epochs =3,optimizer =\"Adam\")"
      ]
    },
    {
      "cell_type": "markdown",
      "id": "d9c56399-04cd-4e7b-9b17-f270f9d42314",
      "metadata": {
        "id": "d9c56399-04cd-4e7b-9b17-f270f9d42314"
      },
      "source": [
        "- Display **loss** curves:"
      ]
    },
    {
      "cell_type": "code",
      "execution_count": 13,
      "id": "descending-fountain",
      "metadata": {
        "colab": {
          "base_uri": "https://localhost:8080/",
          "height": 452
        },
        "id": "descending-fountain",
        "outputId": "6e617bdb-0b30-4ad2-f529-3311aa4d1a10"
      },
      "outputs": [
        {
          "output_type": "display_data",
          "data": {
            "text/plain": [
              "<Figure size 640x480 with 1 Axes>"
            ],
            "image/png": "[encoded data removed]"
          },
          "metadata": {}
        }
      ],
      "source": [
        "loss_train_curve = history.history[\"loss\"]\n",
        "loss_val_curve = history.history[\"val_loss\"]\n",
        "plt.plot(loss_train_curve, label = \"Train\")\n",
        "plt.plot(loss_val_curve, label = \"Validation\")\n",
        "plt.legend(loc = 'upper right')\n",
        "plt.title(\"Loss\")\n",
        "plt.show()"
      ]
    },
    {
      "cell_type": "markdown",
      "id": "844fdd1f-2960-4064-97e8-767b09ab52dd",
      "metadata": {
        "id": "844fdd1f-2960-4064-97e8-767b09ab52dd"
      },
      "source": [
        "- Display **accuracy** curves:"
      ]
    },
    {
      "cell_type": "code",
      "execution_count": 13,
      "id": "0dd67b04-29fe-4d06-9fbe-a6106e72d398",
      "metadata": {
        "colab": {
          "base_uri": "https://localhost:8080/",
          "height": 452
        },
        "id": "0dd67b04-29fe-4d06-9fbe-a6106e72d398",
        "outputId": "1287a48e-7911-4fcd-9917-b33380f04978"
      },
      "outputs": [
        {
          "output_type": "display_data",
          "data": {
            "text/plain": [
              "<Figure size 640x480 with 1 Axes>"
            ],
            "image/png": "[encoded data removed]"
          },
          "metadata": {}
        }
      ],
      "source": [
        "acc_train_curve = model_history.history[\"accuracy\"]\n",
        "acc_val_curve = model_history.history[\"val_accuracy\"]\n",
        "plt.plot(acc_train_curve, label = \"Train\")\n",
        "plt.plot(acc_val_curve, label = \"Validation\")\n",
        "plt.legend(loc = 'lower right')\n",
        "plt.title(\"Accuracy\")\n",
        "plt.show()"
      ]
    },
    {
      "cell_type": "markdown",
      "id": "b74d7004-dba5-489c-b1a0-5c6c949f900a",
      "metadata": {
        "id": "b74d7004-dba5-489c-b1a0-5c6c949f900a"
      },
      "source": [
        "### Step 5 - Evaluate the model\n",
        "\n",
        "The model is evaluated on test data."
      ]
    },
    {
      "cell_type": "code",
      "execution_count": 15,
      "id": "2b69296b-5bc6-46ac-8b28-e3aa1e9a45b0",
      "metadata": {
        "colab": {
          "base_uri": "https://localhost:8080/"
        },
        "id": "2b69296b-5bc6-46ac-8b28-e3aa1e9a45b0",
        "outputId": "50e8d386-9193-43e5-e701-937ea73e588b"
      },
      "outputs": [
        {
          "output_type": "stream",
          "name": "stdout",
          "text": [
            "20/20 [==============================] - 3s 146ms/step - loss: 0.2965 - accuracy: 0.9789\n",
            "The test loss is:  0.2965375781059265\n",
            "The best accuracy is:  97.88960814476013\n"
          ]
        }
      ],
      "source": [
        "test_loss, test_acc = model.evaluate(test_generator)\n",
        "print(\"The test loss is: \", test_loss)\n",
        "print(\"The best accuracy is: \", test_acc*100)"
      ]
    },
    {
      "cell_type": "code",
      "execution_count": null,
      "id": "34ef2679-81de-4681-be27-d59653ab7ecd",
      "metadata": {
        "id": "34ef2679-81de-4681-be27-d59653ab7ecd",
        "outputId": "530f4550-bd2d-40d4-90d9-58cd60637b90"
      },
      "outputs": [
        {
          "name": "stdout",
          "output_type": "stream",
          "text": [
            "[1]\n"
          ]
        }
      ],
      "source": [
        "# generate argmax for predictions\n",
        "class_id = np.argmax(predictions, axis = 1)\n",
        "print(class_id)"
      ]
    },
    {
      "cell_type": "code",
      "execution_count": null,
      "id": "3d8aa473-00b4-4dec-9f26-0c1241718ae8",
      "metadata": {
        "id": "3d8aa473-00b4-4dec-9f26-0c1241718ae8",
        "outputId": "456aa87c-daa8-41ca-dddc-030fe6641b0e"
      },
      "outputs": [
        {
          "data": {
            "text/plain": [
              "'infected'"
            ]
          },
          "execution_count": 20,
          "metadata": {},
          "output_type": "execute_result"
        }
      ],
      "source": [
        "# transform classes number into classes name\n",
        "class_names[class_id.item()]"
      ]
    },
    {
      "cell_type": "markdown",
      "id": "7f941624-584a-47e6-9f3a-bd4f68756459",
      "metadata": {
        "id": "7f941624-584a-47e6-9f3a-bd4f68756459"
      },
      "source": [
        "### Step 7 - Save and export the model\n",
        "\n",
        ">To save your model, you should create an other Object Storage container (with write rights) and mount it in your workspace (`saved_model` in this example).\n",
        "\n",
        "You can now save your model in a dedicated folder."
      ]
    },
    {
      "cell_type": "code",
      "execution_count": null,
      "id": "f9d9de6e",
      "metadata": {
        "id": "f9d9de6e",
        "outputId": "692b23f5-10b2-4723-c933-cbdd8103372e"
      },
      "outputs": [
        {
          "name": "stderr",
          "output_type": "stream",
          "text": [
            "C:\\Users\\saiteja\\AppData\\Local\\Temp\\ipykernel_12756\\172690898.py:2: UserWarning: You are saving your model as an HDF5 file via `model.save()`. This file format is considered legacy. We recommend using instead the native Keras format, e.g. `model.save('my_model.keras')`.\n",
            "  tf.keras.models.save_model(model,keras_file)\n"
          ]
        }
      ],
      "source": [
        "keras_file=\"reset(transferlearning).h5\"\n",
        "tf.keras.models.save_model(model,keras_file)"
      ]
    },
    {
      "cell_type": "markdown",
      "id": "8a7ebcf1-2138-4c46-80f4-db94079fa229",
      "metadata": {
        "id": "8a7ebcf1-2138-4c46-80f4-db94079fa229"
      },
      "source": [
        "## Conclusion\n",
        "\n",
        "**Transfer Learning** saves time by achieving better performance in fewer epochs.\n",
        "\n",
        "Train and test this model on your own dataset !"
      ]
    }
  ],
  "metadata": {
    "kernelspec": {
      "display_name": "Python 3",
      "name": "python3"
    },
    "language_info": {
      "codemirror_mode": {
        "name": "ipython",
        "version": 3
      },
      "file_extension": ".py",
      "mimetype": "text/x-python",
      "name": "python",
      "nbconvert_exporter": "python",
      "pygments_lexer": "ipython3",
      "version": "3.9.12"
    },
    "colab": {
      "provenance": [],
      "gpuType": "T4"
    },
    "accelerator": "GPU"
  },
  "nbformat": 4,
  "nbformat_minor": 5
}